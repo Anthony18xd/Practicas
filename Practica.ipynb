{
  "nbformat": 4,
  "nbformat_minor": 0,
  "metadata": {
    "colab": {
      "provenance": [],
      "authorship_tag": "ABX9TyOByWU6QxhHbhVfK7TbW5CO",
      "include_colab_link": true
    },
    "kernelspec": {
      "name": "python3",
      "display_name": "Python 3"
    },
    "language_info": {
      "name": "python"
    }
  },
  "cells": [
    {
      "cell_type": "markdown",
      "metadata": {
        "id": "view-in-github",
        "colab_type": "text"
      },
      "source": [
        "<a href=\"https://colab.research.google.com/github/Anthony18xd/Practicas/blob/main/Practica.ipynb\" target=\"_parent\"><img src=\"https://colab.research.google.com/assets/colab-badge.svg\" alt=\"Open In Colab\"/></a>"
      ]
    },
    {
      "cell_type": "markdown",
      "source": [
        "practica"
      ],
      "metadata": {
        "id": "nFu904pZi0oU"
      }
    },
    {
      "cell_type": "code",
      "source": [
        "# Problemas con numpy\n",
        "# Crear un vector de numeros enteros 1 al 20\n",
        "import numpy as np\n",
        "vector = np.arange(1, 21)\n",
        "print(vector)\n"
      ],
      "metadata": {
        "colab": {
          "base_uri": "https://localhost:8080/"
        },
        "id": "2iQdU12Elvx-",
        "outputId": "fd572c63-f04e-4b52-af5c-ff8481fd60e4"
      },
      "execution_count": null,
      "outputs": [
        {
          "output_type": "stream",
          "name": "stdout",
          "text": [
            "[ 1  2  3  4  5  6  7  8  9 10 11 12 13 14 15 16 17 18 19 20]\n"
          ]
        }
      ]
    },
    {
      "cell_type": "code",
      "source": [
        "#crear una matriz de 3*3 con valores aleatorios entre 0 y 1 (enteros)\n",
        "matriz = np.random.randint(0, 2, size=(3, 3))\n",
        "print(matriz)"
      ],
      "metadata": {
        "colab": {
          "base_uri": "https://localhost:8080/"
        },
        "id": "AF33lmVGmZTl",
        "outputId": "cfc7360d-de21-43d9-cab3-e9062e15a0a2"
      },
      "execution_count": null,
      "outputs": [
        {
          "output_type": "stream",
          "name": "stdout",
          "text": [
            "[[0 0 1]\n",
            " [1 0 1]\n",
            " [1 1 1]]\n"
          ]
        }
      ]
    },
    {
      "cell_type": "markdown",
      "source": [
        "# Redimensiona una matriz de 4x4 a una matriz de 2x8"
      ],
      "metadata": {
        "id": "-qtu4HbXoWJ2"
      }
    },
    {
      "cell_type": "code",
      "source": [
        "print(\"\\n1.1 Redimensión de matriz 4x4 a 2x8:\")\n",
        "matriz_4x4 = np.random.randint(1, 10, size=(4, 4))\n",
        "print(f\"Matriz original 4x4:\\n{matriz_4x4}\")\n",
        "matriz_2x8 = matriz_4x4.reshape(2, 8)\n",
        "print(f\"Matriz redimensionada 2x8:\\n{matriz_2x8}\")"
      ],
      "metadata": {
        "colab": {
          "base_uri": "https://localhost:8080/"
        },
        "id": "VK3MiYC6nAYF",
        "outputId": "0de82c3a-a055-4b6b-ffb8-b1d9fa4c5404"
      },
      "execution_count": null,
      "outputs": [
        {
          "output_type": "stream",
          "name": "stdout",
          "text": [
            "\n",
            "1.1 Redimensión de matriz 4x4 a 2x8:\n",
            "Matriz original 4x4:\n",
            "[[1 9 9 9]\n",
            " [8 6 4 7]\n",
            " [8 3 5 1]\n",
            " [5 2 5 6]]\n",
            "Matriz redimensionada 2x8:\n",
            "[[1 9 9 9 8 6 4 7]\n",
            " [8 3 5 1 5 2 5 6]]\n"
          ]
        }
      ]
    },
    {
      "cell_type": "markdown",
      "source": [
        "Crea un array de 10 números equidistantes entre 0 y 1\n"
      ],
      "metadata": {
        "id": "XvDw6ts3odVu"
      }
    },
    {
      "cell_type": "code",
      "source": [
        "print(\"\\n1.2 Array de 10 números equidistantes entre 0 y 1:\")\n",
        "array_equidistante = np.linspace(0, 1, 10)\n",
        "print(f\"Array: {array_equidistante}\")"
      ],
      "metadata": {
        "colab": {
          "base_uri": "https://localhost:8080/"
        },
        "id": "-63uDMZIogMt",
        "outputId": "88d399a4-3d9a-4849-f744-6f8f414cae58"
      },
      "execution_count": null,
      "outputs": [
        {
          "output_type": "stream",
          "name": "stdout",
          "text": [
            "\n",
            "1.2 Array de 10 números equidistantes entre 0 y 1:\n",
            "Array: [0.         0.11111111 0.22222222 0.33333333 0.44444444 0.55555556\n",
            " 0.66666667 0.77777778 0.88888889 1.        ]\n"
          ]
        }
      ]
    },
    {
      "cell_type": "markdown",
      "source": [
        "Concatena dos vectores vertical y horizontalmente"
      ],
      "metadata": {
        "id": "j4KY7LsGpsl9"
      }
    },
    {
      "cell_type": "code",
      "source": [
        "print(\"\\n1.3 Concatenación de vectores:\")\n",
        "vector1 = np.array([1, 2, 3, 4, 5])\n",
        "vector2 = np.array([6, 7, 8, 9, 10])\n",
        "print(f\"Vector 1: {vector1}\")\n",
        "print(f\"Vector 2: {vector2}\")"
      ],
      "metadata": {
        "colab": {
          "base_uri": "https://localhost:8080/"
        },
        "id": "SHelf4LYpvz1",
        "outputId": "f213e498-e0e1-43c2-ae78-b5d18b994487"
      },
      "execution_count": null,
      "outputs": [
        {
          "output_type": "stream",
          "name": "stdout",
          "text": [
            "\n",
            "1.3 Concatenación de vectores:\n",
            "Vector 1: [1 2 3 4 5]\n",
            "Vector 2: [ 6  7  8  9 10]\n"
          ]
        }
      ]
    },
    {
      "cell_type": "markdown",
      "source": [
        "Concatenación vertical"
      ],
      "metadata": {
        "id": "_y6UsRWSp7D1"
      }
    },
    {
      "cell_type": "code",
      "source": [
        "concat_vertical = np.vstack([vector1, vector2])\n",
        "print(f\"Concatenación vertical:\\n{concat_vertical}\")"
      ],
      "metadata": {
        "colab": {
          "base_uri": "https://localhost:8080/"
        },
        "id": "PYEY8lTyqF1t",
        "outputId": "f0d710af-970a-4f21-a70b-e7af5da74f7f"
      },
      "execution_count": null,
      "outputs": [
        {
          "output_type": "stream",
          "name": "stdout",
          "text": [
            "Concatenación vertical:\n",
            "[[ 1  2  3  4  5]\n",
            " [ 6  7  8  9 10]]\n"
          ]
        }
      ]
    },
    {
      "cell_type": "markdown",
      "source": [
        "Concatenación horizontal"
      ],
      "metadata": {
        "id": "UHLNM4RDqSK-"
      }
    },
    {
      "cell_type": "code",
      "source": [
        "concat_horizontal = np.hstack([vector1, vector2])\n",
        "print(f\"Concatenación horizontal: {concat_horizontal}\")"
      ],
      "metadata": {
        "colab": {
          "base_uri": "https://localhost:8080/"
        },
        "id": "wWNdyJGKqVNW",
        "outputId": "a7e439cc-b6d9-4498-ae36-8d6b98224f70"
      },
      "execution_count": null,
      "outputs": [
        {
          "output_type": "stream",
          "name": "stdout",
          "text": [
            "Concatenación horizontal: [ 1  2  3  4  5  6  7  8  9 10]\n"
          ]
        }
      ]
    },
    {
      "cell_type": "markdown",
      "source": [
        "EJERCICIO 2: OPERACIONES MATEMÁTICAS CON VECTORES"
      ],
      "metadata": {
        "id": "QCBvXaZzqabF"
      }
    },
    {
      "cell_type": "markdown",
      "source": [
        "Crear dos vectores para las operaciones"
      ],
      "metadata": {
        "id": "BonYKpyeq1qe"
      }
    },
    {
      "cell_type": "code",
      "source": [
        "vector_a = np.array([10, 20, 30, 40, 50])\n",
        "vector_b = np.array([5, 10, 15, 20, 25])\n",
        "print(f\"Vector A: {vector_a}\")\n",
        "print(f\"Vector B: {vector_b}\")"
      ],
      "metadata": {
        "colab": {
          "base_uri": "https://localhost:8080/"
        },
        "id": "Rxqt7fbmqdJF",
        "outputId": "32db245f-e06e-4948-958e-5797b237cee1"
      },
      "execution_count": null,
      "outputs": [
        {
          "output_type": "stream",
          "name": "stdout",
          "text": [
            "Vector A: [10 20 30 40 50]\n",
            "Vector B: [ 5 10 15 20 25]\n"
          ]
        }
      ]
    },
    {
      "cell_type": "markdown",
      "source": [
        "Suma, resta, multiplicación y división"
      ],
      "metadata": {
        "id": "VxniF7VJrDjN"
      }
    },
    {
      "cell_type": "code",
      "source": [
        "print(\"\\n2.1 Operaciones básicas:\")\n",
        "suma = vector_a + vector_b\n",
        "resta = vector_a - vector_b\n",
        "multiplicacion = vector_a * vector_b\n",
        "division = vector_a / vector_b\n",
        "\n",
        "print(f\"Suma: {suma}\")\n",
        "print(f\"Resta: {resta}\")\n",
        "print(f\"Multiplicación: {multiplicacion}\")\n",
        "print(f\"División: {division}\")"
      ],
      "metadata": {
        "colab": {
          "base_uri": "https://localhost:8080/"
        },
        "id": "dQpI397KrGl1",
        "outputId": "45504b4b-806b-4dd5-cd7d-fcf34829b10c"
      },
      "execution_count": null,
      "outputs": [
        {
          "output_type": "stream",
          "name": "stdout",
          "text": [
            "\n",
            "2.1 Operaciones básicas:\n",
            "Suma: [15 30 45 60 75]\n",
            "Resta: [ 5 10 15 20 25]\n",
            "Multiplicación: [  50  200  450  800 1250]\n",
            "División: [2. 2. 2. 2. 2.]\n"
          ]
        }
      ]
    },
    {
      "cell_type": "markdown",
      "source": [
        "Media, mediana y desviación estándar"
      ],
      "metadata": {
        "id": "bfzV8npprR3t"
      }
    },
    {
      "cell_type": "code",
      "source": [
        "print(\"\\n2.2 Estadísticas del vector A:\")\n",
        "media = np.mean(vector_a)\n",
        "mediana = np.median(vector_a)\n",
        "desviacion_estandar = np.std(vector_a)\n",
        "\n",
        "print(f\"Media: {media}\")\n",
        "print(f\"Mediana: {mediana}\")\n",
        "print(f\"Desviación estándar: {desviacion_estandar}\")"
      ],
      "metadata": {
        "colab": {
          "base_uri": "https://localhost:8080/"
        },
        "id": "lNUbXMjNrVP2",
        "outputId": "9e6e781e-9030-4647-89a6-5d1d63530e54"
      },
      "execution_count": null,
      "outputs": [
        {
          "output_type": "stream",
          "name": "stdout",
          "text": [
            "\n",
            "2.2 Estadísticas del vector A:\n",
            "Media: 30.0\n",
            "Mediana: 30.0\n",
            "Desviación estándar: 14.142135623730951\n"
          ]
        }
      ]
    },
    {
      "cell_type": "markdown",
      "source": [
        "Normalización (dividir por valor máximo)"
      ],
      "metadata": {
        "id": "-ry5E3K5rcaN"
      }
    },
    {
      "cell_type": "code",
      "source": [
        "print(\"\\n2.3 Normalización:\")\n",
        "vector_normalizado = vector_a / np.max(vector_a)\n",
        "print(f\"Vector normalizado: {vector_normalizado}\")"
      ],
      "metadata": {
        "colab": {
          "base_uri": "https://localhost:8080/"
        },
        "id": "unHaIWXnrj4e",
        "outputId": "3ff7995e-05cc-4970-e368-b69650d597c3"
      },
      "execution_count": null,
      "outputs": [
        {
          "output_type": "stream",
          "name": "stdout",
          "text": [
            "\n",
            "2.3 Normalización:\n",
            "Vector normalizado: [0.2 0.4 0.6 0.8 1. ]\n"
          ]
        }
      ]
    },
    {
      "cell_type": "markdown",
      "source": [
        "Índices de valores máximo y mínimo"
      ],
      "metadata": {
        "id": "e8dzYTXBroZ-"
      }
    },
    {
      "cell_type": "code",
      "source": [
        "print(\"\\n2.4 Índices de valores extremos:\")\n",
        "indice_max = np.argmax(vector_a)\n",
        "indice_min = np.argmin(vector_a)\n",
        "print(f\"Índice del valor máximo: {indice_max} (valor: {vector_a[indice_max]})\")\n",
        "print(f\"Índice del valor mínimo: {indice_min} (valor: {vector_a[indice_min]})\")\n"
      ],
      "metadata": {
        "colab": {
          "base_uri": "https://localhost:8080/"
        },
        "id": "cJjhYhw5rrFt",
        "outputId": "267e32c9-7472-419f-933a-1fb8d92a7c8d"
      },
      "execution_count": null,
      "outputs": [
        {
          "output_type": "stream",
          "name": "stdout",
          "text": [
            "\n",
            "2.4 Índices de valores extremos:\n",
            "Índice del valor máximo: 4 (valor: 50)\n",
            "Índice del valor mínimo: 0 (valor: 10)\n"
          ]
        }
      ]
    },
    {
      "cell_type": "markdown",
      "source": [
        "Multiplicación matricial entre dos matrices 3x3"
      ],
      "metadata": {
        "id": "RZ0lZyM-ruhN"
      }
    },
    {
      "cell_type": "code",
      "source": [
        "print(\"\\n2.5 Multiplicación matricial:\")\n",
        "matriz1_3x3 = np.random.randint(1, 5, size=(3, 3))\n",
        "matriz2_3x3 = np.random.randint(1, 5, size=(3, 3))\n",
        "multiplicacion_matricial = np.dot(matriz1_3x3, matriz2_3x3)\n",
        "\n",
        "print(f\"Matriz 1:\\n{matriz1_3x3}\")\n",
        "print(f\"Matriz 2:\\n{matriz2_3x3}\")\n",
        "print(f\"Multiplicación matricial:\\n{multiplicacion_matricial}\")"
      ],
      "metadata": {
        "colab": {
          "base_uri": "https://localhost:8080/"
        },
        "id": "E9oJrzDtrwgN",
        "outputId": "75bc46d6-21b8-4722-948d-68db233fdbbc"
      },
      "execution_count": null,
      "outputs": [
        {
          "output_type": "stream",
          "name": "stdout",
          "text": [
            "\n",
            "2.5 Multiplicación matricial:\n",
            "Matriz 1:\n",
            "[[4 2 1]\n",
            " [1 1 1]\n",
            " [3 2 3]]\n",
            "Matriz 2:\n",
            "[[4 1 1]\n",
            " [2 2 3]\n",
            " [2 3 2]]\n",
            "Multiplicación matricial:\n",
            "[[22 11 12]\n",
            " [ 8  6  6]\n",
            " [22 16 15]]\n"
          ]
        }
      ]
    },
    {
      "cell_type": "markdown",
      "source": [
        "EJERCICIO 3: OPERACIONES CON NUMPY - FILTROS Y SELECCIONES"
      ],
      "metadata": {
        "id": "JkAjqdJ8sH59"
      }
    },
    {
      "cell_type": "markdown",
      "source": [
        "Crear vector de números enteros para las operaciones"
      ],
      "metadata": {
        "id": "QnRWEdKfsL_9"
      }
    },
    {
      "cell_type": "code",
      "source": [
        "vector_numeros = np.array([1, 2, 3, 4, 5, 6, 7, 8, 9, 10, 11, 12])\n",
        "print(f\"Vector original: {vector_numeros}\")\n"
      ],
      "metadata": {
        "colab": {
          "base_uri": "https://localhost:8080/"
        },
        "id": "VvKKZRE2sOB9",
        "outputId": "4dc403fc-d2e4-455d-9fee-b9a0924e3c8c"
      },
      "execution_count": null,
      "outputs": [
        {
          "output_type": "stream",
          "name": "stdout",
          "text": [
            "Vector original: [ 1  2  3  4  5  6  7  8  9 10 11 12]\n"
          ]
        }
      ]
    },
    {
      "cell_type": "markdown",
      "source": [
        "Seleccionar elementos pares"
      ],
      "metadata": {
        "id": "_VEzMxmmsUuU"
      }
    },
    {
      "cell_type": "code",
      "source": [
        "print(\"\\n3.1 Elementos pares:\")\n",
        "elementos_pares = vector_numeros[vector_numeros % 2 == 0]\n",
        "print(f\"Elementos pares: {elementos_pares}\")"
      ],
      "metadata": {
        "colab": {
          "base_uri": "https://localhost:8080/"
        },
        "id": "dZ6TxvhfsUAM",
        "outputId": "c7187cfd-5fe7-4fa2-c6de-aa6d0cd7d921"
      },
      "execution_count": null,
      "outputs": [
        {
          "output_type": "stream",
          "name": "stdout",
          "text": [
            "\n",
            "3.1 Elementos pares:\n",
            "Elementos pares: [ 2  4  6  8 10 12]\n"
          ]
        }
      ]
    },
    {
      "cell_type": "markdown",
      "source": [
        "Filtrar valores mayores que 5"
      ],
      "metadata": {
        "id": "QgDuLGYBsZ-W"
      }
    },
    {
      "cell_type": "code",
      "source": [
        "print(\"\\n3.2 Valores mayores que 5:\")\n",
        "mayores_que_5 = vector_numeros[vector_numeros > 5]\n",
        "print(f\"Valores mayores que 5: {mayores_que_5}\")"
      ],
      "metadata": {
        "colab": {
          "base_uri": "https://localhost:8080/"
        },
        "id": "u0T-QUc4scCO",
        "outputId": "c9ea1108-28e3-4f01-bdc9-1b2671b1aa4c"
      },
      "execution_count": null,
      "outputs": [
        {
          "output_type": "stream",
          "name": "stdout",
          "text": [
            "\n",
            "3.2 Valores mayores que 5:\n",
            "Valores mayores que 5: [ 6  7  8  9 10 11 12]\n"
          ]
        }
      ]
    },
    {
      "cell_type": "markdown",
      "source": [
        "Filtrar valores iguales a cero"
      ],
      "metadata": {
        "id": "Gu5yMPsNseyN"
      }
    },
    {
      "cell_type": "code",
      "source": [
        "vector_con_ceros = np.array([1, 0, 3, 0, 5, 6, 0, 8])\n",
        "print(f\"\\n3.3 Vector con ceros: {vector_con_ceros}\")\n",
        "valores_cero = vector_con_ceros[vector_con_ceros == 0]\n",
        "valores_no_cero = vector_con_ceros[vector_con_ceros != 0]\n",
        "print(f\"Valores iguales a cero: {valores_cero}\")\n",
        "print(f\"Valores diferentes de cero: {valores_no_cero}\")"
      ],
      "metadata": {
        "colab": {
          "base_uri": "https://localhost:8080/"
        },
        "id": "aUqhPy28shF9",
        "outputId": "0940d437-69c5-454a-a7b3-06b1b26a24b5"
      },
      "execution_count": null,
      "outputs": [
        {
          "output_type": "stream",
          "name": "stdout",
          "text": [
            "\n",
            "3.3 Vector con ceros: [1 0 3 0 5 6 0 8]\n",
            "Valores iguales a cero: [0 0 0]\n",
            "Valores diferentes de cero: [1 3 5 6 8]\n"
          ]
        }
      ]
    },
    {
      "cell_type": "markdown",
      "source": [
        "Filtrar valores negativos"
      ],
      "metadata": {
        "id": "IM9uZ-BGskbl"
      }
    },
    {
      "cell_type": "code",
      "source": [
        "vector_con_negativos = np.array([-3, -1, 0, 2, 4, -5, 7])\n",
        "print(f\"\\n3.4 Vector con negativos: {vector_con_negativos}\")\n",
        "valores_negativos = vector_con_negativos[vector_con_negativos < 0]\n",
        "print(f\"Valores negativos: {valores_negativos}\")"
      ],
      "metadata": {
        "colab": {
          "base_uri": "https://localhost:8080/"
        },
        "id": "pP-aaVXssm7F",
        "outputId": "04f01c1b-c59d-4b20-9a9e-2755deffe257"
      },
      "execution_count": null,
      "outputs": [
        {
          "output_type": "stream",
          "name": "stdout",
          "text": [
            "\n",
            "3.4 Vector con negativos: [-3 -1  0  2  4 -5  7]\n",
            "Valores negativos: [-3 -1 -5]\n"
          ]
        }
      ]
    },
    {
      "cell_type": "markdown",
      "source": [
        "Aplicar media a valores mayores que 50"
      ],
      "metadata": {
        "id": "upbYW7yEspiF"
      }
    },
    {
      "cell_type": "code",
      "source": [
        "vector_grandes = np.array([20, 60, 30, 80, 45, 90, 55])\n",
        "print(f\"\\n3.5 Vector con valores grandes: {vector_grandes}\")\n",
        "mayores_50 = vector_grandes[vector_grandes > 50]\n",
        "media_mayores_50 = np.mean(mayores_50)\n",
        "print(f\"Valores mayores que 50: {mayores_50}\")\n",
        "print(f\"Media de valores mayores que 50: {media_mayores_50}\")"
      ],
      "metadata": {
        "colab": {
          "base_uri": "https://localhost:8080/"
        },
        "id": "sKZhhFidsrc2",
        "outputId": "7662743b-0f3b-48aa-d51f-9fb15cd2df25"
      },
      "execution_count": null,
      "outputs": [
        {
          "output_type": "stream",
          "name": "stdout",
          "text": [
            "\n",
            "3.5 Vector con valores grandes: [20 60 30 80 45 90 55]\n",
            "Valores mayores que 50: [60 80 90 55]\n",
            "Media de valores mayores que 50: 71.25\n"
          ]
        }
      ]
    },
    {
      "cell_type": "markdown",
      "source": [
        "EJERCICIO 4: OPERACIONES AVANZADAS CON NUMPY"
      ],
      "metadata": {
        "id": "nlEF9emFsval"
      }
    },
    {
      "cell_type": "code",
      "source": [
        "# Crear vector de 10 elementos y reemplazar valores mayores que 5 con 0\n",
        "print(\"\\n4.1 Reemplazar valores mayores que 5 con 0:\")\n",
        "vector_10 = np.array([1, 3, 6, 2, 8, 4, 9, 5, 7, 10])\n",
        "print(f\"Vector original: {vector_10}\")\n",
        "vector_modificado = vector_10.copy()\n",
        "vector_modificado[vector_modificado > 5] = 0\n",
        "print(f\"Vector modificado: {vector_modificado}\")"
      ],
      "metadata": {
        "colab": {
          "base_uri": "https://localhost:8080/"
        },
        "id": "VegoN0COsueW",
        "outputId": "2bd26896-d979-4034-d7a6-b26e7bb2ff49"
      },
      "execution_count": null,
      "outputs": [
        {
          "output_type": "stream",
          "name": "stdout",
          "text": [
            "\n",
            "4.1 Reemplazar valores mayores que 5 con 0:\n",
            "Vector original: [ 1  3  6  2  8  4  9  5  7 10]\n",
            "Vector modificado: [1 3 0 2 0 4 0 5 0 0]\n"
          ]
        }
      ]
    },
    {
      "cell_type": "code",
      "source": [
        "# Combinar dos vectores booleanos con AND y OR\n",
        "print(\"\\n4.2 Operaciones booleanas:\")\n",
        "bool_vector1 = np.array([True, False, True, False, True])\n",
        "bool_vector2 = np.array([True, True, False, False, True])\n",
        "print(f\"Vector booleano 1: {bool_vector1}\")\n",
        "print(f\"Vector booleano 2: {bool_vector2}\")\n",
        "\n",
        "and_result = bool_vector1 & bool_vector2\n",
        "or_result = bool_vector1 | bool_vector2\n",
        "print(f\"AND result: {and_result}\")\n",
        "print(f\"OR result: {or_result}\")"
      ],
      "metadata": {
        "colab": {
          "base_uri": "https://localhost:8080/"
        },
        "id": "re7bM4R6szON",
        "outputId": "f551902d-86da-4761-9891-ae9259e57c34"
      },
      "execution_count": null,
      "outputs": [
        {
          "output_type": "stream",
          "name": "stdout",
          "text": [
            "\n",
            "4.2 Operaciones booleanas:\n",
            "Vector booleano 1: [ True False  True False  True]\n",
            "Vector booleano 2: [ True  True False False  True]\n",
            "AND result: [ True False False False  True]\n",
            "OR result: [ True  True  True False  True]\n"
          ]
        }
      ]
    },
    {
      "cell_type": "code",
      "source": [
        "# Contar valores múltiplos de 3\n",
        "print(\"\\n4.3 Contar múltiplos de 3:\")\n",
        "vector_multiples = np.array([3, 6, 7, 9, 12, 15, 18, 20, 21, 24])\n",
        "print(f\"Vector: {vector_multiples}\")\n",
        "multiples_3 = vector_multiples[vector_multiples % 3 == 0]\n",
        "cantidad_multiples_3 = len(multiples_3)\n",
        "print(f\"Múltiplos de 3: {multiples_3}\")\n",
        "print(f\"Cantidad de múltiplos de 3: {cantidad_multiples_3}\")"
      ],
      "metadata": {
        "colab": {
          "base_uri": "https://localhost:8080/"
        },
        "id": "y9y_YvJos2dF",
        "outputId": "cbc50718-c1c3-48d3-cba8-c38e7685309e"
      },
      "execution_count": null,
      "outputs": [
        {
          "output_type": "stream",
          "name": "stdout",
          "text": [
            "\n",
            "4.3 Contar múltiplos de 3:\n",
            "Vector: [ 3  6  7  9 12 15 18 20 21 24]\n",
            "Múltiplos de 3: [ 3  6  9 12 15 18 21 24]\n",
            "Cantidad de múltiplos de 3: 8\n"
          ]
        }
      ]
    },
    {
      "cell_type": "code",
      "source": [
        "# Encontrar índices de elementos no nulos\n",
        "print(\"\\n4.4 Índices de elementos no nulos:\")\n",
        "vector_nulos = np.array([0, 3, 0, 7, 0, 9, 2])\n",
        "print(f\"Vector con nulos: {vector_nulos}\")\n",
        "indices_no_nulos = np.nonzero(vector_nulos)[0]\n",
        "print(f\"Índices de elementos no nulos: {indices_no_nulos}\")"
      ],
      "metadata": {
        "colab": {
          "base_uri": "https://localhost:8080/"
        },
        "id": "12KpQ16fs46l",
        "outputId": "c9e748e3-08d8-4acb-f8f8-ebe69aefddd7"
      },
      "execution_count": null,
      "outputs": [
        {
          "output_type": "stream",
          "name": "stdout",
          "text": [
            "\n",
            "4.4 Índices de elementos no nulos:\n",
            "Vector con nulos: [0 3 0 7 0 9 2]\n",
            "Índices de elementos no nulos: [1 3 5 6]\n"
          ]
        }
      ]
    },
    {
      "cell_type": "code",
      "source": [
        "# Comprobar si todos los elementos son mayores que un valor\n",
        "print(\"\\n4.5 Verificar condiciones:\")\n",
        "vector_verificar = np.array([10, 15, 20, 25, 30])\n",
        "valor_referencia = int(input(\"Ingresa un valor para comparar con todos los elementos: \"))\n",
        "todos_mayores = np.all(vector_verificar > valor_referencia)\n",
        "print(f\"Vector: {vector_verificar}\")\n",
        "print(f\"¿Todos los elementos son mayores que {valor_referencia}? {todos_mayores}\")"
      ],
      "metadata": {
        "colab": {
          "base_uri": "https://localhost:8080/"
        },
        "id": "eWnqa_8Cs7l-",
        "outputId": "d309780c-c06b-4fc4-bef9-0e3cf21ee811"
      },
      "execution_count": null,
      "outputs": [
        {
          "output_type": "stream",
          "name": "stdout",
          "text": [
            "\n",
            "4.5 Verificar condiciones:\n",
            "Ingresa un valor para comparar con todos los elementos: 15\n",
            "Vector: [10 15 20 25 30]\n",
            "¿Todos los elementos son mayores que 15? False\n"
          ]
        }
      ]
    },
    {
      "cell_type": "markdown",
      "source": [
        "EJERCICIO 5: OPERACIONES MATEMÁTICAS AVANZADAS"
      ],
      "metadata": {
        "id": "uKZ0cPWCtGAW"
      }
    },
    {
      "cell_type": "code",
      "source": [
        "# Calcular el cuadrado de cada elemento\n",
        "print(\"\\n5.1 Cuadrado de elementos:\")\n",
        "vector_cuadrados = np.array([1, 2, 3, 4, 5])\n",
        "print(f\"Vector original: {vector_cuadrados}\")\n",
        "cuadrados = np.square(vector_cuadrados)\n",
        "# También se puede usar: cuadrados = vector_cuadrados ** 2\n",
        "print(f\"Cuadrados: {cuadrados}\")"
      ],
      "metadata": {
        "colab": {
          "base_uri": "https://localhost:8080/"
        },
        "id": "kawYAoqXtE3e",
        "outputId": "1f7caff2-1331-4385-98f3-79c4134ba627"
      },
      "execution_count": null,
      "outputs": [
        {
          "output_type": "stream",
          "name": "stdout",
          "text": [
            "\n",
            "5.1 Cuadrado de elementos:\n",
            "Vector original: [1 2 3 4 5]\n",
            "Cuadrados: [ 1  4  9 16 25]\n"
          ]
        }
      ]
    },
    {
      "cell_type": "code",
      "source": [
        "# Función exponencial\n",
        "print(\"\\n5.2 Función exponencial:\")\n",
        "vector_exponencial = np.array([1, 2, 3, 4])\n",
        "print(f\"Vector original: {vector_exponencial}\")\n",
        "exponenciales = np.exp(vector_exponencial)\n",
        "print(f\"e^x para cada elemento: {exponenciales}\")\n"
      ],
      "metadata": {
        "colab": {
          "base_uri": "https://localhost:8080/"
        },
        "id": "iARmwn6FtK6c",
        "outputId": "1bc3501d-e4e5-4c6b-b6a8-70fe6ad242fb"
      },
      "execution_count": null,
      "outputs": [
        {
          "output_type": "stream",
          "name": "stdout",
          "text": [
            "\n",
            "5.2 Función exponencial:\n",
            "Vector original: [1 2 3 4]\n",
            "e^x para cada elemento: [ 2.71828183  7.3890561  20.08553692 54.59815003]\n"
          ]
        }
      ]
    },
    {
      "cell_type": "code",
      "source": [
        "# Elevar a la misma potencia\n",
        "potencia = 3\n",
        "potencias = np.power(vector_exponencial, potencia)\n",
        "print(f\"Elementos elevados a la potencia {potencia}: {potencias}\")\n"
      ],
      "metadata": {
        "colab": {
          "base_uri": "https://localhost:8080/"
        },
        "id": "MLdUHE4btNgl",
        "outputId": "04f94981-0f9f-4890-ea08-ea8d1ab624b7"
      },
      "execution_count": null,
      "outputs": [
        {
          "output_type": "stream",
          "name": "stdout",
          "text": [
            "Elementos elevados a la potencia 3: [ 1  8 27 64]\n"
          ]
        }
      ]
    },
    {
      "cell_type": "code",
      "source": [
        "# Valores máximos y mínimos en cada fila de una matriz\n",
        "print(\"\\n5.3 Máximos y mínimos por fila:\")\n",
        "matriz_ejemplo = np.array([[1, 8, 3],\n",
        "                          [4, 2, 9],\n",
        "                          [7, 5, 6]])\n",
        "print(f\"Matriz:\\n{matriz_ejemplo}\")\n",
        "max_por_fila = np.max(matriz_ejemplo, axis=1)\n",
        "min_por_fila = np.min(matriz_ejemplo, axis=1)\n",
        "print(f\"Máximo por fila: {max_por_fila}\")\n",
        "print(f\"Mínimo por fila: {min_por_fila}\")"
      ],
      "metadata": {
        "colab": {
          "base_uri": "https://localhost:8080/"
        },
        "id": "S4TUKTiNtQh9",
        "outputId": "69b60665-b787-4f3c-94a5-7728702f2f26"
      },
      "execution_count": null,
      "outputs": [
        {
          "output_type": "stream",
          "name": "stdout",
          "text": [
            "\n",
            "5.3 Máximos y mínimos por fila:\n",
            "Matriz:\n",
            "[[1 8 3]\n",
            " [4 2 9]\n",
            " [7 5 6]]\n",
            "Máximo por fila: [8 9 7]\n",
            "Mínimo por fila: [1 2 5]\n"
          ]
        }
      ]
    },
    {
      "cell_type": "code",
      "source": [
        "# Función seno y almacenar en otro vector\n",
        "print(\"\\n5.4 Función seno:\")\n",
        "vector_seno = np.array([0, np.pi/6, np.pi/4, np.pi/3, np.pi/2])\n",
        "print(f\"Vector original (radianes): {vector_seno}\")\n",
        "senos = np.sin(vector_seno)\n",
        "print(f\"Senos: {senos}\")\n"
      ],
      "metadata": {
        "colab": {
          "base_uri": "https://localhost:8080/"
        },
        "id": "QiFYvrs-tTJF",
        "outputId": "640d9fa6-bbcb-46ef-9223-3ea961c2dfd8"
      },
      "execution_count": null,
      "outputs": [
        {
          "output_type": "stream",
          "name": "stdout",
          "text": [
            "\n",
            "5.4 Función seno:\n",
            "Vector original (radianes): [0.         0.52359878 0.78539816 1.04719755 1.57079633]\n",
            "Senos: [0.         0.5        0.70710678 0.8660254  1.        ]\n"
          ]
        }
      ]
    },
    {
      "cell_type": "code",
      "source": [
        "# Transpuesta de matriz 3x4\n",
        "print(\"\\n5.5 Transpuesta de matriz:\")\n",
        "matriz_3x4 = np.array([[1, 2, 3, 4],\n",
        "                       [5, 6, 7, 8],\n",
        "                       [9, 10, 11, 12]])\n",
        "print(f\"Matriz original 3x4:\\n{matriz_3x4}\")\n",
        "transpuesta = matriz_3x4.T\n",
        "print(f\"Matriz transpuesta 4x3:\\n{transpuesta}\")\n"
      ],
      "metadata": {
        "colab": {
          "base_uri": "https://localhost:8080/"
        },
        "id": "xTzbqhEptWDF",
        "outputId": "6bd321bc-59dc-41bc-d418-c01b536d58c4"
      },
      "execution_count": null,
      "outputs": [
        {
          "output_type": "stream",
          "name": "stdout",
          "text": [
            "\n",
            "5.5 Transpuesta de matriz:\n",
            "Matriz original 3x4:\n",
            "[[ 1  2  3  4]\n",
            " [ 5  6  7  8]\n",
            " [ 9 10 11 12]]\n",
            "Matriz transpuesta 4x3:\n",
            "[[ 1  5  9]\n",
            " [ 2  6 10]\n",
            " [ 3  7 11]\n",
            " [ 4  8 12]]\n"
          ]
        }
      ]
    },
    {
      "cell_type": "markdown",
      "source": [
        "EJERCICIO 6: DATAFRAMES CON PANDAS"
      ],
      "metadata": {
        "id": "SsGvhM2Xtb7O"
      }
    },
    {
      "cell_type": "code",
      "source": [
        "# Crear DataFrame con las columnas especificadas\n",
        "print(\"\\n6.1 Creación del DataFrame:\")\n",
        "\n",
        "# Generar datos aleatorios para el DataFrame\n",
        "nombres = ['Ana García', 'Luis Rodriguez', 'María López', 'Carlos Martín', 'Sofia Chen',\n",
        "           'Diego Ruiz', 'Laura Fernández', 'Miguel Torres', 'Carmen Silva', 'Jorge Vega',\n",
        "           'Isabella Cruz', 'Andrés Morales']\n",
        "\n",
        "edades = [22, 28, 19, 35, 26, 31, 24, 29, 33, 27, 21, 30]\n",
        "\n",
        "ciudades = ['Lima', 'Arequipa', 'Cusco', 'Lima', 'Trujillo', 'Lima',\n",
        "            'Arequipa', 'Cusco', 'Lima', 'Trujillo', 'Lima', 'Arequipa']\n",
        "\n",
        "# Crear DataFrame\n",
        "df = pd.DataFrame({\n",
        "    'Nombre': nombres,\n",
        "    'Edad': edades,\n",
        "    'Ciudad': ciudades\n",
        "})\n",
        "\n",
        "print(\"DataFrame original:\")\n",
        "print(df)\n",
        "print(f\"\\nForma del DataFrame: {df.shape}\")"
      ],
      "metadata": {
        "colab": {
          "base_uri": "https://localhost:8080/"
        },
        "id": "meX3dlzStZF-",
        "outputId": "401b12e1-2aee-41c2-b7ed-72871b53fd9a"
      },
      "execution_count": null,
      "outputs": [
        {
          "output_type": "stream",
          "name": "stdout",
          "text": [
            "\n",
            "6.1 Creación del DataFrame:\n",
            "DataFrame original:\n",
            "             Nombre  Edad    Ciudad\n",
            "0        Ana García    22      Lima\n",
            "1    Luis Rodriguez    28  Arequipa\n",
            "2       María López    19     Cusco\n",
            "3     Carlos Martín    35      Lima\n",
            "4        Sofia Chen    26  Trujillo\n",
            "5        Diego Ruiz    31      Lima\n",
            "6   Laura Fernández    24  Arequipa\n",
            "7     Miguel Torres    29     Cusco\n",
            "8      Carmen Silva    33      Lima\n",
            "9        Jorge Vega    27  Trujillo\n",
            "10    Isabella Cruz    21      Lima\n",
            "11   Andrés Morales    30  Arequipa\n",
            "\n",
            "Forma del DataFrame: (12, 3)\n"
          ]
        }
      ]
    },
    {
      "cell_type": "code",
      "source": [
        "# Filtrar personas que tienen más de 25 años\n",
        "print(\"\\n6.2 Filtro: Personas mayores de 25 años:\")\n",
        "mayores_25 = df[df['Edad'] > 25]\n",
        "print(mayores_25)"
      ],
      "metadata": {
        "colab": {
          "base_uri": "https://localhost:8080/"
        },
        "id": "RaScf7lmtmvN",
        "outputId": "608fffd0-a583-4159-d1d6-6a2a977b6004"
      },
      "execution_count": null,
      "outputs": [
        {
          "output_type": "stream",
          "name": "stdout",
          "text": [
            "\n",
            "6.2 Filtro: Personas mayores de 25 años:\n",
            "            Nombre  Edad    Ciudad\n",
            "1   Luis Rodriguez    28  Arequipa\n",
            "3    Carlos Martín    35      Lima\n",
            "4       Sofia Chen    26  Trujillo\n",
            "5       Diego Ruiz    31      Lima\n",
            "7    Miguel Torres    29     Cusco\n",
            "8     Carmen Silva    33      Lima\n",
            "9       Jorge Vega    27  Trujillo\n",
            "11  Andrés Morales    30  Arequipa\n"
          ]
        }
      ]
    },
    {
      "cell_type": "code",
      "source": [
        "# Añadir nueva columna 'Ingresos' con valores aleatorios\n",
        "print(\"\\n6.3 Añadir columna 'Ingresos':\")\n",
        "np.random.seed(42)  # Para reproducibilidad\n",
        "ingresos = np.random.randint(2000, 8000, size=len(df))\n",
        "df['Ingresos'] = ingresos\n",
        "print(df)"
      ],
      "metadata": {
        "colab": {
          "base_uri": "https://localhost:8080/"
        },
        "id": "p9-kvRTrtqXV",
        "outputId": "dc28ace1-ddf8-4c10-87f9-0502d0bf0330"
      },
      "execution_count": null,
      "outputs": [
        {
          "output_type": "stream",
          "name": "stdout",
          "text": [
            "\n",
            "6.3 Añadir columna 'Ingresos':\n",
            "             Nombre  Edad    Ciudad  Ingresos\n",
            "0        Ana García    22      Lima      2860\n",
            "1    Luis Rodriguez    28  Arequipa      7390\n",
            "2       María López    19     Cusco      7226\n",
            "3     Carlos Martín    35      Lima      7191\n",
            "4        Sofia Chen    26  Trujillo      5772\n",
            "5        Diego Ruiz    31      Lima      5092\n",
            "6   Laura Fernández    24  Arequipa      7734\n",
            "7     Miguel Torres    29     Cusco      2466\n",
            "8      Carmen Silva    33      Lima      7334\n",
            "9        Jorge Vega    27  Trujillo      6426\n",
            "10    Isabella Cruz    21      Lima      7578\n",
            "11   Andrés Morales    30  Arequipa      5444\n"
          ]
        }
      ]
    },
    {
      "cell_type": "code",
      "source": [
        "# Encontrar promedio de edad\n",
        "print(\"\\n6.4 Promedio de edad:\")\n",
        "promedio_edad = df['Edad'].mean()\n",
        "print(f\"Promedio de edad: {promedio_edad:.2f} años\")\n"
      ],
      "metadata": {
        "colab": {
          "base_uri": "https://localhost:8080/"
        },
        "id": "QGb5bIstttO9",
        "outputId": "a00fe56c-704b-4c5f-e832-7e1d2554b2ad"
      },
      "execution_count": null,
      "outputs": [
        {
          "output_type": "stream",
          "name": "stdout",
          "text": [
            "\n",
            "6.4 Promedio de edad:\n",
            "Promedio de edad: 27.08 años\n"
          ]
        }
      ]
    },
    {
      "cell_type": "code",
      "source": [
        "# Contar cuántas veces aparece cada ciudad\n",
        "print(\"\\n6.5 Conteo por ciudad:\")\n",
        "conteo_ciudades = df['Ciudad'].value_counts()\n",
        "print(\"Conteo de personas por ciudad:\")\n",
        "print(conteo_ciudades)"
      ],
      "metadata": {
        "colab": {
          "base_uri": "https://localhost:8080/"
        },
        "id": "PmPuUh7itwHd",
        "outputId": "bc87dbfc-db53-4de0-d92e-6cc05f7265af"
      },
      "execution_count": null,
      "outputs": [
        {
          "output_type": "stream",
          "name": "stdout",
          "text": [
            "\n",
            "6.5 Conteo por ciudad:\n",
            "Conteo de personas por ciudad:\n",
            "Ciudad\n",
            "Lima        5\n",
            "Arequipa    3\n",
            "Cusco       2\n",
            "Trujillo    2\n",
            "Name: count, dtype: int64\n"
          ]
        }
      ]
    },
    {
      "cell_type": "code",
      "source": [
        "# Agrupar por ciudad y calcular promedio de edad para cada ciudad\n",
        "print(\"\\n6.6 Promedio de edad por ciudad:\")\n",
        "promedio_edad_ciudad = df.groupby('Ciudad')['Edad'].mean()\n",
        "print(\"Promedio de edad por ciudad:\")\n",
        "print(promedio_edad_ciudad)"
      ],
      "metadata": {
        "colab": {
          "base_uri": "https://localhost:8080/"
        },
        "id": "6YIp3rhPtzPt",
        "outputId": "01b6f3e0-5b1f-43b2-9ca0-505b258b9e55"
      },
      "execution_count": null,
      "outputs": [
        {
          "output_type": "stream",
          "name": "stdout",
          "text": [
            "\n",
            "6.6 Promedio de edad por ciudad:\n",
            "Promedio de edad por ciudad:\n",
            "Ciudad\n",
            "Arequipa    27.333333\n",
            "Cusco       24.000000\n",
            "Lima        28.400000\n",
            "Trujillo    26.500000\n",
            "Name: Edad, dtype: float64\n"
          ]
        }
      ]
    },
    {
      "cell_type": "code",
      "source": [
        "# Ordenar DataFrame por edad (ascendente y descendente)\n",
        "print(\"\\n6.7 Ordenamiento por edad:\")\n",
        "print(\"Ordenado por edad (ascendente):\")\n",
        "df_asc = df.sort_values('Edad', ascending=True)\n",
        "print(df_asc)\n",
        "\n",
        "print(\"\\nOrdenado por edad (descendente):\")\n",
        "df_desc = df.sort_values('Edad', ascending=False)\n",
        "print(df_desc)"
      ],
      "metadata": {
        "colab": {
          "base_uri": "https://localhost:8080/"
        },
        "id": "6MvbPcoOt2PN",
        "outputId": "662e6c72-cfbe-4d08-ecda-b1e3b1d27c02"
      },
      "execution_count": null,
      "outputs": [
        {
          "output_type": "stream",
          "name": "stdout",
          "text": [
            "\n",
            "6.7 Ordenamiento por edad:\n",
            "Ordenado por edad (ascendente):\n",
            "             Nombre  Edad    Ciudad  Ingresos\n",
            "2       María López    19     Cusco      7226\n",
            "10    Isabella Cruz    21      Lima      7578\n",
            "0        Ana García    22      Lima      2860\n",
            "6   Laura Fernández    24  Arequipa      7734\n",
            "4        Sofia Chen    26  Trujillo      5772\n",
            "9        Jorge Vega    27  Trujillo      6426\n",
            "1    Luis Rodriguez    28  Arequipa      7390\n",
            "7     Miguel Torres    29     Cusco      2466\n",
            "11   Andrés Morales    30  Arequipa      5444\n",
            "5        Diego Ruiz    31      Lima      5092\n",
            "8      Carmen Silva    33      Lima      7334\n",
            "3     Carlos Martín    35      Lima      7191\n",
            "\n",
            "Ordenado por edad (descendente):\n",
            "             Nombre  Edad    Ciudad  Ingresos\n",
            "3     Carlos Martín    35      Lima      7191\n",
            "8      Carmen Silva    33      Lima      7334\n",
            "5        Diego Ruiz    31      Lima      5092\n",
            "11   Andrés Morales    30  Arequipa      5444\n",
            "7     Miguel Torres    29     Cusco      2466\n",
            "1    Luis Rodriguez    28  Arequipa      7390\n",
            "9        Jorge Vega    27  Trujillo      6426\n",
            "4        Sofia Chen    26  Trujillo      5772\n",
            "6   Laura Fernández    24  Arequipa      7734\n",
            "0        Ana García    22      Lima      2860\n",
            "10    Isabella Cruz    21      Lima      7578\n",
            "2       María López    19     Cusco      7226\n"
          ]
        }
      ]
    },
    {
      "cell_type": "code",
      "source": [
        "# Estadísticas descriptivas\n",
        "print(\"\\n6.8 Estadísticas descriptivas:\")\n",
        "print(df.describe())"
      ],
      "metadata": {
        "colab": {
          "base_uri": "https://localhost:8080/"
        },
        "id": "KDOm4xO8t5Wm",
        "outputId": "30637a50-6169-449b-e4cb-ea41508c6a80"
      },
      "execution_count": null,
      "outputs": [
        {
          "output_type": "stream",
          "name": "stdout",
          "text": [
            "\n",
            "6.8 Estadísticas descriptivas:\n",
            "            Edad     Ingresos\n",
            "count  12.000000    12.000000\n",
            "mean   27.083333  6042.750000\n",
            "std     4.907477  1804.638928\n",
            "min    19.000000  2466.000000\n",
            "25%    23.500000  5356.000000\n",
            "50%    27.500000  6808.500000\n",
            "75%    30.250000  7348.000000\n",
            "max    35.000000  7734.000000\n"
          ]
        }
      ]
    },
    {
      "cell_type": "markdown",
      "source": [
        "EJERCICIO 7: FILTROS DE DATOS"
      ],
      "metadata": {
        "id": "9zWfXz1RuMi1"
      }
    },
    {
      "cell_type": "code",
      "source": [
        "import pandas as pd"
      ],
      "metadata": {
        "id": "hkMF10GcuNln"
      },
      "execution_count": null,
      "outputs": []
    },
    {
      "cell_type": "code",
      "metadata": {
        "colab": {
          "base_uri": "https://localhost:8080/"
        },
        "id": "7cce9566",
        "outputId": "da020a81-a2bd-4bc8-b328-7952cbc6c7dc"
      },
      "source": [
        "# Cargar el archivo CSV en un DataFrame de pandas\n",
        "import pandas as pd # Added import statement\n",
        "\n",
        "def cargar_csv_universidad():\n",
        "    encodings = ['utf-8', 'latin-1', 'iso-8859-1', 'cp1252']\n",
        "\n",
        "    for encoding in encodings:\n",
        "        try:\n",
        "            df = pd.read_csv('universidad.csv', encoding=encoding, delimiter=';')\n",
        "            print(f\"Archivo cargado exitosamente con codificación: {encoding}\")\n",
        "            return df\n",
        "        except UnicodeDecodeError:\n",
        "            continue\n",
        "\n",
        "    print(\"No se pudo cargar el archivo con ninguna codificación probada\")\n",
        "    return None\n",
        "\n",
        "# Cargar los datos\n",
        "df_universidad = cargar_csv_universidad()\n",
        "\n",
        "if df_universidad is not None:\n",
        "    # Limpiar los nombres de las columnas (eliminar espacios)\n",
        "    df_universidad.columns = df_universidad.columns.str.strip()\n",
        "\n",
        "    # Mostrar información básica del DataFrame\n",
        "    print(\"\\n=== INFORMACIÓN DEL DATASET ===\")\n",
        "    print(f\"Número total de registros: {len(df_universidad)}\")\n",
        "    print(\"\\nPrimeras 5 filas:\")\n",
        "    print(df_universidad.head())\n",
        "\n",
        "    print(\"\\nColumnas disponibles:\")\n",
        "    print(df_universidad.columns.tolist())\n",
        "\n",
        "    print(\"\\nTipos de datos:\")\n",
        "    print(df_universidad.dtypes)\n",
        "\n",
        "    # Limpiar la columna de carrera (eliminar espacios y normalizar)\n",
        "    df_universidad['Carrera'] = df_universidad['Carrera'].str.strip()"
      ],
      "execution_count": 4,
      "outputs": [
        {
          "output_type": "stream",
          "name": "stdout",
          "text": [
            "Archivo cargado exitosamente con codificación: latin-1\n",
            "\n",
            "=== INFORMACIÓN DEL DATASET ===\n",
            "Número total de registros: 100\n",
            "\n",
            "Primeras 5 filas:\n",
            "  Num Control              Carrera  Semestre Inscripcin  Id Persona\n",
            "0    SeNeTe01  Lic. en nutriologa         7  20/05/2015           1\n",
            "1    JeViPi02         Ing.Êqumica         8   2/05/2015           2\n",
            "2    MaFeN03      Lic. en derecho         6   9/05/2015           3\n",
            "3    WiVaL04     Ing. en sistemas         2   3/12/2016           4\n",
            "4    BaRiDe05     Ing. mecatrnica        10   1/12/2018           5\n",
            "\n",
            "Columnas disponibles:\n",
            "['Num Control', 'Carrera', 'Semestre', 'Inscripci\\x97n', 'Id Persona']\n",
            "\n",
            "Tipos de datos:\n",
            "Num Control    object\n",
            "Carrera        object\n",
            "Semestre        int64\n",
            "Inscripcin    object\n",
            "Id Persona      int64\n",
            "dtype: object\n"
          ]
        }
      ]
    },
    {
      "cell_type": "code",
      "source": [
        "# Análisis 1: Contar estudiantes de Ing. en sistemas\n",
        "sistemas_count = len(df_universidad[df_universidad['Carrera'] == 'Ing. en sistemas'])\n",
        "print(f\"ANÁLISIS 1: INGENIERÍA EN SISTEMAS\")\n",
        "print(f\"Estudiantes de Ing. en sistemas: {sistemas_count}\")"
      ],
      "metadata": {
        "colab": {
          "base_uri": "https://localhost:8080/"
        },
        "id": "PyvnEtuVNfuI",
        "outputId": "896e4d6a-a82a-49af-f576-bb4fcb2efeb0"
      },
      "execution_count": 15,
      "outputs": [
        {
          "output_type": "stream",
          "name": "stdout",
          "text": [
            "ANÁLISIS 1: INGENIERÍA EN SISTEMAS\n",
            "Estudiantes de Ing. en sistemas: 13\n"
          ]
        }
      ]
    },
    {
      "cell_type": "code",
      "source": [
        "# Análisis 2: Contar estudiantes de Lic. en derecho (nota: no hay \"Ing. en derecho\")\n",
        "derecho_count = len(df_universidad[df_universidad['Carrera'] == 'Lic. en derecho'])\n",
        "print(f\"ANÁLISIS 2: LICENCIATURA EN DERECHO\")\n",
        "print(f\"Estudiantes de Lic. en derecho: {derecho_count}\")"
      ],
      "metadata": {
        "colab": {
          "base_uri": "https://localhost:8080/"
        },
        "id": "1ZYIx4q-N4q-",
        "outputId": "b131a261-8707-4ea1-ad87-4387aba24e8d"
      },
      "execution_count": 16,
      "outputs": [
        {
          "output_type": "stream",
          "name": "stdout",
          "text": [
            "ANÁLISIS 2: LICENCIATURA EN DERECHO\n",
            "Estudiantes de Lic. en derecho: 17\n"
          ]
        }
      ]
    },
    {
      "cell_type": "code",
      "source": [
        "# Análisis 3: Estudiantes inscritos en 2015\n",
        "# Convertir la columna de inscripción a datetime\n",
        "df_universidad['Inscripción_fecha'] = pd.to_datetime(df_universidad['Inscripci\\x97n'], format='%d/%m/%Y', errors='coerce')\n",
        "df_universidad['Año_inscripción'] = df_universidad['Inscripción_fecha'].dt.year\n",
        "\n",
        "# Contar estudiantes inscritos en 2015\n",
        "inscritos_2015_count = len(df_universidad[df_universidad['Año_inscripción'] == 2015])\n",
        "\n",
        "print(f\"ANÁLISIS 3: ESTUDIANTES INSCRITOS EN 2015\")\n",
        "print(f\"Estudiantes inscritos en 2015: {inscritos_2015_count}\")"
      ],
      "metadata": {
        "colab": {
          "base_uri": "https://localhost:8080/"
        },
        "id": "t7C-mlkwOQzF",
        "outputId": "5babf0ff-c499-4137-9c38-d30ebc76ca22"
      },
      "execution_count": 14,
      "outputs": [
        {
          "output_type": "stream",
          "name": "stdout",
          "text": [
            "ANÁLISIS 3: ESTUDIANTES INSCRITOS EN 2015\n",
            "Estudiantes inscritos en 2015: 23\n"
          ]
        }
      ]
    },
    {
      "cell_type": "code",
      "source": [
        "# Análisis 4: Estudiantes de 1° y 2° semestre\n",
        "semestre_1_2 = len(df_universidad[df_universidad['Semestre'].isin([1, 2])])\n",
        "semestre_1 = len(df_universidad[df_universidad['Semestre'] == 1])\n",
        "semestre_2 = len(df_universidad[df_universidad['Semestre'] == 2])\n",
        "\n",
        "print(f\"ANÁLISIS 4: ESTUDIANTES DE 1° Y 2° SEMESTRE\")\n",
        "print(f\"Estudiantes de 1° semestre: {semestre_1}\")\n",
        "print(f\"Estudiantes de 2° semestre: {semestre_2}\")\n",
        "print(f\"Total de estudiantes de 1° y 2° semestre: {semestre_1_2}\")"
      ],
      "metadata": {
        "colab": {
          "base_uri": "https://localhost:8080/"
        },
        "id": "pX0_7wqaOtsb",
        "outputId": "af54daab-a541-45b6-98ec-4e4be1818885"
      },
      "execution_count": 19,
      "outputs": [
        {
          "output_type": "stream",
          "name": "stdout",
          "text": [
            "ANÁLISIS 4: ESTUDIANTES DE 1° Y 2° SEMESTRE\n",
            "Estudiantes de 1° semestre: 11\n",
            "Estudiantes de 2° semestre: 11\n",
            "Total de estudiantes de 1° y 2° semestre: 22\n"
          ]
        }
      ]
    },
    {
      "cell_type": "code",
      "source": [
        "# Estadísticas adicionales\n",
        "print(f\"\\n=== ESTADÍSTICAS ADICIONALES ===\")\n",
        "print(\"\\nDistribución por carrera:\")\n",
        "carreras_count = df_universidad['Carrera'].value_counts()\n",
        "for carrera, count in carreras_count.items():\n",
        "    print(f\"  {carrera}: {count} estudiantes\")\n",
        "\n",
        "print(f\"\\nDistribución por semestre:\")\n",
        "semestre_count = df_universidad['Semestre'].value_counts().sort_index()\n",
        "for semestre, count in semestre_count.items():\n",
        "    print(f\"  Semestre {semestre}: {count} estudiantes\")\n",
        "\n",
        "print(f\"\\nDistribución por año de inscripción:\")\n",
        "año_count = df_universidad['Año_inscripción'].value_counts().sort_index()\n",
        "for año, count in año_count.items():\n",
        "    if not pd.isna(año):\n",
        "        print(f\"  {int(año)}: {count} estudiantes\")"
      ],
      "metadata": {
        "colab": {
          "base_uri": "https://localhost:8080/"
        },
        "id": "UCq3PAcJO4er",
        "outputId": "61bbe300-f351-4bc2-aa7f-33ea617130e8"
      },
      "execution_count": 21,
      "outputs": [
        {
          "output_type": "stream",
          "name": "stdout",
          "text": [
            "\n",
            "=== ESTADÍSTICAS ADICIONALES ===\n",
            "\n",
            "Distribución por carrera:\n",
            "  Ing.Êqumica: 20 estudiantes\n",
            "  Lic. en nutriologa: 19 estudiantes\n",
            "  Ing. mecatrnica: 18 estudiantes\n",
            "  Lic. en derecho: 17 estudiantes\n",
            "  Ing. en sistemas: 13 estudiantes\n",
            "  Lic. en pedagoga: 13 estudiantes\n",
            "\n",
            "Distribución por semestre:\n",
            "  Semestre 1: 11 estudiantes\n",
            "  Semestre 2: 11 estudiantes\n",
            "  Semestre 3: 9 estudiantes\n",
            "  Semestre 4: 12 estudiantes\n",
            "  Semestre 5: 5 estudiantes\n",
            "  Semestre 6: 9 estudiantes\n",
            "  Semestre 7: 13 estudiantes\n",
            "  Semestre 8: 12 estudiantes\n",
            "  Semestre 9: 9 estudiantes\n",
            "  Semestre 10: 9 estudiantes\n",
            "\n",
            "Distribución por año de inscripción:\n",
            "  2015: 23 estudiantes\n",
            "  2016: 20 estudiantes\n",
            "  2017: 26 estudiantes\n",
            "  2018: 31 estudiantes\n"
          ]
        }
      ]
    },
    {
      "cell_type": "code",
      "source": [
        "# Resumen final\n",
        "print(f\"\\n\" + \"=\"*50)\n",
        "print(\"RESUMEN DE RESULTADOS:\")\n",
        "print(\"=\"*50)\n",
        "print(f\"1. Estudiantes de Ing. en sistemas: {sistemas_count}\")\n",
        "print(f\"2. Estudiantes de Lic. en derecho: {derecho_count}\")\n",
        "print(f\"3. Estudiantes inscritos en 2015: {inscritos_2015_count}\")\n",
        "print(f\"4. Estudiantes de 1° y 2° semestre: {semestre_1_2}\")\n",
        "print(\"=\"*50)"
      ],
      "metadata": {
        "colab": {
          "base_uri": "https://localhost:8080/"
        },
        "id": "Wf46_m-LPE5Z",
        "outputId": "87e8c62b-9f2f-41b6-e7a1-710ad4f35075"
      },
      "execution_count": 24,
      "outputs": [
        {
          "output_type": "stream",
          "name": "stdout",
          "text": [
            "\n",
            "==================================================\n",
            "RESUMEN DE RESULTADOS:\n",
            "==================================================\n",
            "1. Estudiantes de Ing. en sistemas: 13\n",
            "2. Estudiantes de Lic. en derecho: 17\n",
            "3. Estudiantes inscritos en 2015: 23\n",
            "4. Estudiantes de 1° y 2° semestre: 22\n",
            "==================================================\n"
          ]
        }
      ]
    }
  ]
}